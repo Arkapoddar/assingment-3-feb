{
 "cells": [
  {
   "cell_type": "code",
   "execution_count": 6,
   "id": "34165950-571f-412a-9fb8-0790916a7b50",
   "metadata": {},
   "outputs": [
    {
     "name": "stdin",
     "output_type": "stream",
     "text": [
      "enter the lowest value 1\n",
      "enter the upper value 10\n"
     ]
    },
    {
     "name": "stdout",
     "output_type": "stream",
     "text": [
      "[2, 4, 6, 8, 10]\n",
      "None\n"
     ]
    }
   ],
   "source": [
    "#def keyword use to create a function\n",
    "\n",
    "def odd(lower,upper):\n",
    "    list=[]\n",
    "    for i in range(lower,upper+1):\n",
    "        if i%2==0:\n",
    "            list.append(i)\n",
    "    print(list)\n",
    "lower=int(input(\"enter the lowest value\"))\n",
    "upper=int(input(\"enter the upper value\"))\n",
    "\n",
    "print(odd(lower,upper))\n"
   ]
  },
  {
   "cell_type": "code",
   "execution_count": 1,
   "id": "36f04498-1886-4d4d-a731-1636345ae235",
   "metadata": {},
   "outputs": [
    {
     "name": "stdout",
     "output_type": "stream",
     "text": [
      "11\n",
      "22\n"
     ]
    }
   ],
   "source": [
    "# *args\n",
    "def adder (*num):\n",
    "    sum=0\n",
    "    for i in num:\n",
    "        sum=sum+i\n",
    "    print(sum)\n",
    "    \n",
    "adder(4,7)\n",
    "adder(4,5,6,7)"
   ]
  },
  {
   "cell_type": "code",
   "execution_count": 3,
   "id": "b85493b5-7ec8-49f6-b6e5-f7b399e85148",
   "metadata": {},
   "outputs": [
    {
     "name": "stdout",
     "output_type": "stream",
     "text": [
      "data type of argument <class 'dict'>\n",
      "firstname is arka\n",
      "lastname is poddar\n",
      "age is 22\n",
      "phone is 12345678\n"
     ]
    }
   ],
   "source": [
    "# **args\n",
    "def intro(**data):\n",
    "    print(\"data type of argument\",type(data))\n",
    "    for key,value in data.items():\n",
    "        print(\"{} is {}\".format(key,value))\n",
    "        \n",
    "intro(firstname=\"arka\",lastname=\"poddar\",age=22,phone=12345678)        "
   ]
  },
  {
   "cell_type": "code",
   "execution_count": 1,
   "id": "29fe79f8-2c8a-4e2a-99ac-3eb50a2c14da",
   "metadata": {},
   "outputs": [
    {
     "ename": "SyntaxError",
     "evalue": "invalid syntax (2352573436.py, line 1)",
     "output_type": "error",
     "traceback": [
      "\u001b[0;36m  Cell \u001b[0;32mIn[1], line 1\u001b[0;36m\u001b[0m\n\u001b[0;31m    An iterator is an object that contains a countable number of values\u001b[0m\n\u001b[0m       ^\u001b[0m\n\u001b[0;31mSyntaxError\u001b[0m\u001b[0;31m:\u001b[0m invalid syntax\n"
     ]
    }
   ],
   "source": [
    "An iterator is an object that contains a countable number of values\n",
    "\n",
    "iter()->is used to itretor method"
   ]
  },
  {
   "cell_type": "code",
   "execution_count": 2,
   "id": "dc722de2-8478-4bca-984e-b527974fefbe",
   "metadata": {},
   "outputs": [
    {
     "name": "stdout",
     "output_type": "stream",
     "text": [
      "2\n",
      "4\n",
      "6\n",
      "8\n",
      "10\n"
     ]
    }
   ],
   "source": [
    "list1=[2,4,6,8,10,12,14,16,18,20]\n",
    "it=iter(list1)\n",
    "print(next(it))\n",
    "print(next(it))\n",
    "print(next(it))\n",
    "print(next(it))\n",
    "print(next(it))"
   ]
  },
  {
   "cell_type": "code",
   "execution_count": 2,
   "id": "2f449099-b8d7-4c8b-a741-840b0370958a",
   "metadata": {},
   "outputs": [],
   "source": [
    "#generator function\n",
    "\n",
    "a generator is a function that return an itreator that produce a sequence of values when iterated over.it is used when we want to produce a large sequence \n",
    "of values, but we dont want to store all of them in memory at once.\n",
    "\n",
    "#yield\n",
    "\n",
    "when we want to iterate over a sequence , but dont want to store the entire sequence in memory, then we use yield key word"
   ]
  },
  {
   "cell_type": "code",
   "execution_count": 2,
   "id": "5e184707-9576-4211-a814-e927037ed2a2",
   "metadata": {},
   "outputs": [
    {
     "name": "stdout",
     "output_type": "stream",
     "text": [
      "1\n",
      "4\n",
      "9\n",
      "16\n",
      "25\n",
      "36\n",
      "49\n",
      "64\n",
      "81\n",
      "100\n"
     ]
    }
   ],
   "source": [
    "def nextsquare():\n",
    "    i=1\n",
    "    while True:\n",
    "        yield i*i\n",
    "        i+=1\n",
    "        \n",
    "for num in nextsquare():\n",
    "    if num>100:\n",
    "        break\n",
    "    print (num)    "
   ]
  },
  {
   "cell_type": "code",
   "execution_count": 4,
   "id": "a080f972-7b6e-42d3-8b88-aa2547667172",
   "metadata": {},
   "outputs": [
    {
     "name": "stdout",
     "output_type": "stream",
     "text": [
      "2 3 5 7 11 13 17 19 23 29 31 37 41 43 47 53 59 61 67 71 73 79 83 89 97 101 103 107 109 113 127 131 137 139 149 151 157 163 167 173 179 181 191 193 197 199 211 223 227 229 "
     ]
    }
   ],
   "source": [
    "def isprime(num):\n",
    "    for i in range(2,num):\n",
    "        if num%i==0:\n",
    "            return False\n",
    "    return True\n",
    "def primegenerator(n):\n",
    "    num=2\n",
    "    while n:\n",
    "        if isprime(num):\n",
    "            yield num\n",
    "            n-=1\n",
    "        num+=1\n",
    "    return\n",
    "it=primegenerator(50)\n",
    "for e in it:\n",
    "    print(e,end=' ')"
   ]
  },
  {
   "cell_type": "code",
   "execution_count": 8,
   "id": "8895e9f4-bd1c-49fd-875f-c15b49a296b4",
   "metadata": {},
   "outputs": [
    {
     "name": "stdin",
     "output_type": "stream",
     "text": [
      " 10\n"
     ]
    },
    {
     "name": "stdout",
     "output_type": "stream",
     "text": [
      "0\n",
      "1\n",
      "1\n",
      "2\n",
      "3\n",
      "5\n",
      "8\n",
      "13\n",
      "21\n",
      "34\n"
     ]
    }
   ],
   "source": [
    "n=int(input())\n",
    "a=0\n",
    "b=1\n",
    "sum=0\n",
    "count=1\n",
    "while(count<=n):\n",
    "    count+=1\n",
    "    print(a)\n",
    "    sum=a+b\n",
    "    a=b\n",
    "    b=sum\n",
    "    \n",
    "    "
   ]
  },
  {
   "cell_type": "code",
   "execution_count": 12,
   "id": "7014efdc-9df6-4944-b74b-e5e999b27732",
   "metadata": {},
   "outputs": [
    {
     "name": "stdin",
     "output_type": "stream",
     "text": [
      " 121\n"
     ]
    },
    {
     "name": "stdout",
     "output_type": "stream",
     "text": [
      "palindrome\n"
     ]
    }
   ],
   "source": [
    "n=int(input())\n",
    "rev=0\n",
    "m=n\n",
    "while(n!=0):\n",
    "    p=n%10\n",
    "    n=n//10\n",
    "    rev=rev*10+p\n",
    "if rev==m:\n",
    "    print(\"palindrome\")\n",
    "else:\n",
    "    print(\"not palindrome\")\n",
    "    "
   ]
  },
  {
   "cell_type": "code",
   "execution_count": 15,
   "id": "42c758a7-78d7-4375-8b5a-0ba079aa2a24",
   "metadata": {},
   "outputs": [
    {
     "name": "stdout",
     "output_type": "stream",
     "text": [
      "[1, 3, 5, 7, 9, 11, 13, 15, 17, 19, 21, 23, 25, 27, 29, 31, 33, 35, 37, 39, 41, 43, 45, 47, 49, 51, 53, 55, 57, 59, 61, 63, 65, 67, 69, 71, 73, 75, 77, 79, 81, 83, 85, 87, 89, 91, 93, 95, 97, 99]\n"
     ]
    }
   ],
   "source": [
    "l1=[i for i in range(1,100) if i%2!=0]\n",
    "print(l1)"
   ]
  },
  {
   "cell_type": "code",
   "execution_count": null,
   "id": "94832508-f9ed-42bd-a8d4-68af4670ca31",
   "metadata": {},
   "outputs": [],
   "source": [
    "l1=[i for i in 'pwskills']]"
   ]
  }
 ],
 "metadata": {
  "kernelspec": {
   "display_name": "Python 3 (ipykernel)",
   "language": "python",
   "name": "python3"
  },
  "language_info": {
   "codemirror_mode": {
    "name": "ipython",
    "version": 3
   },
   "file_extension": ".py",
   "mimetype": "text/x-python",
   "name": "python",
   "nbconvert_exporter": "python",
   "pygments_lexer": "ipython3",
   "version": "3.10.8"
  }
 },
 "nbformat": 4,
 "nbformat_minor": 5
}
